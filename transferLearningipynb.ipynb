{
  "nbformat": 4,
  "nbformat_minor": 0,
  "metadata": {
    "colab": {
      "provenance": [],
      "authorship_tag": "ABX9TyNlXHP7G9vGBgWE4ZiVrTa1",
      "include_colab_link": true
    },
    "kernelspec": {
      "name": "python3",
      "display_name": "Python 3"
    },
    "language_info": {
      "name": "python"
    }
  },
  "cells": [
    {
      "cell_type": "markdown",
      "metadata": {
        "id": "view-in-github",
        "colab_type": "text"
      },
      "source": [
        "<a href=\"https://colab.research.google.com/github/octaviocostt/Python/blob/main/transferLearningipynb.ipynb\" target=\"_parent\"><img src=\"https://colab.research.google.com/assets/colab-badge.svg\" alt=\"Open In Colab\"/></a>"
      ]
    },
    {
      "cell_type": "code",
      "execution_count": 17,
      "metadata": {
        "id": "JHIJWOZJPDUo"
      },
      "outputs": [],
      "source": [
        "import os\n",
        "\n",
        "import random\n",
        "import tensorflow as tf\n",
        "import zipfile\n",
        "\n",
        "import matplotlib.image as mpimg\n",
        "import matplotlib.pyplot as plt\n",
        "\n",
        "from tensorflow.keras.optimizers import RMSprop\n",
        "from tensorflow.keras.preprocessing.image import ImageDataGenerator\n",
        "\n",
        "from shutil import copyfile"
      ]
    },
    {
      "cell_type": "code",
      "source": [
        "\n",
        "def remove_files (SOURCE):\n",
        "  print('DELETANDO OS ARQUIVOS EM '+SOURCE)\n",
        "  if os.path.exists(SOURCE):\n",
        "    if len(os.listdir(SOURCE)) > 0:\n",
        "      for filename in os.listdir(SOURCE):\n",
        "        file = SOURCE +'/'+ filename\n",
        "        os.remove(file)\n",
        "      else:\n",
        "        print('Não existem arquivos no diretório: '+SOURCE)\n",
        "    os.rmdir(SOURCE)\n",
        "  else:\n",
        "    print('Diretório :'+SOURCE+' não existe')\n",
        "\n",
        "remove_files('/tmp/cats-v-dogs/testing/cats')\n",
        "remove_files('/tmp/cats-v-dogs/testing/dogs')\n",
        "remove_files('/tmp/cats-v-dogs/training/cats')\n",
        "remove_files('/tmp/cats-v-dogs/training/dogs')\n",
        "remove_files('/tmp/cats-v-dogs/training')\n",
        "remove_files('/tmp/cats-v-dogs/testing')\n",
        "remove_files('/tmp/cats-v-dogs')\n",
        "\n",
        "remove_files('/tmp/PetImages/Cat')\n",
        "remove_files('/tmp/PetImages/Dog')\n",
        "remove_files('/tmp/PetImages')\n",
        "\n",
        "try:\n",
        "  os.mkdir('/tmp/cats-v-dogs')\n",
        "  os.mkdir('/tmp/cats-v-dogs/training')\n",
        "  os.mkdir('/tmp/cats-v-dogs/testing')\n",
        "  os.mkdir('/tmp/cats-v-dogs/training/cats')\n",
        "  os.mkdir('/tmp/cats-v-dogs/training/dogs')\n",
        "  os.mkdir('/tmp/cats-v-dogs/testing/cats')\n",
        "  os.mkdir('/tmp/cats-v-dogs/testing/dogs')\n",
        "except OSError:\n",
        "  pass"
      ],
      "metadata": {
        "colab": {
          "base_uri": "https://localhost:8080/"
        },
        "id": "g8hmJRH-PTxg",
        "outputId": "13118516-4247-4bab-de8d-d464c3b9fa88"
      },
      "execution_count": 18,
      "outputs": [
        {
          "output_type": "stream",
          "name": "stdout",
          "text": [
            "DELETANDO OS ARQUIVOS EM /tmp/cats-v-dogs/testing/cats\n",
            "DELETANDO OS ARQUIVOS EM /tmp/cats-v-dogs/testing/dogs\n",
            "DELETANDO OS ARQUIVOS EM /tmp/cats-v-dogs/training/cats\n",
            "DELETANDO OS ARQUIVOS EM /tmp/cats-v-dogs/training/dogs\n",
            "DELETANDO OS ARQUIVOS EM /tmp/cats-v-dogs/training\n",
            "DELETANDO OS ARQUIVOS EM /tmp/cats-v-dogs/testing\n",
            "DELETANDO OS ARQUIVOS EM /tmp/cats-v-dogs\n",
            "DELETANDO OS ARQUIVOS EM /tmp/PetImages/Cat\n",
            "Diretório :/tmp/PetImages/Cat não existe\n",
            "DELETANDO OS ARQUIVOS EM /tmp/PetImages/Dog\n",
            "Diretório :/tmp/PetImages/Dog não existe\n",
            "DELETANDO OS ARQUIVOS EM /tmp/PetImages\n",
            "Diretório :/tmp/PetImages não existe\n"
          ]
        }
      ]
    },
    {
      "cell_type": "code",
      "source": [
        "!echo \"download do arquivo zip de base de fotos\"\n",
        "\n",
        "!curl -L -o /tmp/cats-and-dogs.zip --progress-bar https://download.microsoft.com/download/3/E/1/3E1C3F21-ECDB-4869-8368-6DEBA77B919F/kagglecatsanddogs_5340.zip\n",
        "\n",
        "local_zip = '/tmp/cats-and-dogs.zip'\n",
        "zip_ref = zipfile.ZipFile(local_zip, 'r')\n",
        "zip_ref.extractall('/tmp')\n",
        "zip_ref.close()"
      ],
      "metadata": {
        "colab": {
          "base_uri": "https://localhost:8080/"
        },
        "id": "MHymuhNsPkoZ",
        "outputId": "dc17baed-3632-47fd-e812-f5bf823820d0"
      },
      "execution_count": 19,
      "outputs": [
        {
          "output_type": "stream",
          "name": "stdout",
          "text": [
            "download do arquivo zip de base de fotos\n",
            "############################################################################################# 100.0%\n"
          ]
        }
      ]
    },
    {
      "cell_type": "code",
      "source": [
        "print(len(os.listdir('/tmp/PetImages/Cat')))\n",
        "print(len(os.listdir('/tmp/PetImages/Dog')))"
      ],
      "metadata": {
        "colab": {
          "base_uri": "https://localhost:8080/"
        },
        "id": "ntwS6pogPjz7",
        "outputId": "5bf0be39-496d-4624-8960-50d507a08132"
      },
      "execution_count": 20,
      "outputs": [
        {
          "output_type": "stream",
          "name": "stdout",
          "text": [
            "12501\n",
            "12501\n"
          ]
        }
      ]
    },
    {
      "cell_type": "code",
      "source": [
        "def split_data(SOURCE, TRAINING, TESTING, SPLIT_SIZE):\n",
        "  files = []\n",
        "  for filename in os.listdir(SOURCE):\n",
        "    file = SOURCE + filename\n",
        "    if os.path.getsize(file) > 0:\n",
        "      files.append(filename)\n",
        "    else:\n",
        "      print(filename + \"Arquivo Ignorado, tamanho zero\")\n",
        "\n",
        "  training_length = int(len(files) * SPLIT_SIZE)\n",
        "  testing_length = int(len(files) - training_length)\n",
        "  shuffled_set = random.sample(files, len(files))\n",
        "  training_set = shuffled_set[0:training_length]\n",
        "  testing_set = shuffled_set[-testing_length:]\n",
        "\n",
        "\n",
        "  for filename in training_set:\n",
        "    this_file = SOURCE + filename\n",
        "    destination = TRAINING + filename\n",
        "    copyfile(this_file, destination)\n",
        "\n",
        "  for filename2 in testing_set:\n",
        "    this_file = SOURCE + filename2\n",
        "    destination = TESTING + filename2\n",
        "    copyfile(this_file, destination)\n",
        "\n",
        "\n",
        "CAT_SOURCE_DIR = \"/tmp/PetImages/Cat/\"\n",
        "TRAINING_CATS_DIR = \"/tmp/cats-v-dogs/training/cats/\"\n",
        "TESTING_CATS_DIR = \"/tmp/cats-v-dogs/testing/cats/\"\n",
        "DOG_SOURCE_DIR = \"/tmp/PetImages/Dog/\"\n",
        "TRAINING_DOGS_DIR = \"/tmp/cats-v-dogs/training/dogs/\"\n",
        "TESTING_DOGS_DIR = \"/tmp/cats-v-dogs/testing/dogs/\"\n",
        "\n",
        "split_size = .9\n",
        "split_data (CAT_SOURCE_DIR, TRAINING_CATS_DIR, TESTING_CATS_DIR, split_size)\n",
        "split_data (DOG_SOURCE_DIR, TRAINING_DOGS_DIR, TESTING_DOGS_DIR, split_size)\n"
      ],
      "metadata": {
        "colab": {
          "base_uri": "https://localhost:8080/"
        },
        "id": "JqFYoADKPkgn",
        "outputId": "d5fff9e4-f08a-446c-cb0d-4ae5d3d97cc4"
      },
      "execution_count": 21,
      "outputs": [
        {
          "output_type": "stream",
          "name": "stdout",
          "text": [
            "666.jpgArquivo Ignorado, tamanho zero\n",
            "11702.jpgArquivo Ignorado, tamanho zero\n"
          ]
        }
      ]
    },
    {
      "cell_type": "code",
      "source": [
        "print(len(os.listdir('/tmp/cats-v-dogs/training/cats')))\n",
        "print(len(os.listdir('/tmp/cats-v-dogs/training/dogs')))\n",
        "print(len(os.listdir('/tmp/cats-v-dogs/testing/cats')))\n",
        "print(len(os.listdir('/tmp/cats-v-dogs/testing/dogs')))"
      ],
      "metadata": {
        "colab": {
          "base_uri": "https://localhost:8080/"
        },
        "id": "bA6n3Js-PkSn",
        "outputId": "67819bfc-a364-4f83-a2f0-8e03dc63a747"
      },
      "execution_count": 22,
      "outputs": [
        {
          "output_type": "stream",
          "name": "stdout",
          "text": [
            "11250\n",
            "11250\n",
            "1250\n",
            "1250\n"
          ]
        }
      ]
    },
    {
      "cell_type": "code",
      "source": [
        "model = tf.keras.models.Sequential([\n",
        "    tf.keras.layers.Conv2D(16, (3, 3), activation='relu', input_shape=(150, 150, 3)),\n",
        "    tf.keras.layers.MaxPooling2D(2, 2),\n",
        "    tf.keras.layers.Conv2D(32, (3, 3), activation='relu'),\n",
        "    tf.keras.layers.MaxPooling2D(2, 2),\n",
        "    tf.keras.layers.Conv2D(64, (3, 3), activation='relu'),\n",
        "    tf.keras.layers.MaxPooling2D(2, 2),\n",
        "    tf.keras.layers.Flatten(),\n",
        "    tf.keras.layers.Dense(512, activation='relu'),\n",
        "    tf.keras.layers.Dense(1, activation='sigmoid')\n",
        "])\n",
        "\n",
        "model.compile(optimizer=tf.keras.optimizers.Adam(learning_rate=1e-3),\n",
        "              loss=tf.keras.losses.BinaryCrossentropy(),\n",
        "              metrics=[tf.keras.metrics.BinaryAccuracy(),\n",
        "                       tf.keras.metrics.FalseNegatives()])"
      ],
      "metadata": {
        "id": "Y9D4b4kkP7rz"
      },
      "execution_count": 23,
      "outputs": []
    },
    {
      "cell_type": "code",
      "source": [
        "\n",
        "TRAINING_DIR = '/tmp/cats-v-dogs/training/'\n",
        "train_datagen = ImageDataGenerator(rescale=1.0/255.)\n",
        "train_generator = train_datagen.flow_from_directory(TRAINING_DIR,\n",
        "                                                    batch_size=250,\n",
        "                                                    class_mode='binary',\n",
        "                                                    target_size=(150,150))\n",
        "\n",
        "VALIDATION_DIR = '/tmp/cats-v-dogs/testing/'\n",
        "validation_datagen = ImageDataGenerator(rescale=1.0/255.)\n",
        "validation_generator = train_datagen.flow_from_directory(VALIDATION_DIR,\n",
        "                                                    batch_size=250,\n",
        "                                                    class_mode='binary',\n",
        "                                                    target_size=(150,150))\n",
        "\n",
        ""
      ],
      "metadata": {
        "colab": {
          "base_uri": "https://localhost:8080/"
        },
        "id": "82jEsYp6P7o3",
        "outputId": "63e41836-6a3e-47f7-9caf-1d4f5d6a220e"
      },
      "execution_count": 24,
      "outputs": [
        {
          "output_type": "stream",
          "name": "stdout",
          "text": [
            "Found 22499 images belonging to 2 classes.\n",
            "Found 2499 images belonging to 2 classes.\n"
          ]
        }
      ]
    },
    {
      "cell_type": "code",
      "source": [
        "history = model.fit(train_generator, epochs=10, steps_per_epoch=10,\n",
        "                    validation_data=validation_generator, validation_steps=6)\n",
        ""
      ],
      "metadata": {
        "colab": {
          "base_uri": "https://localhost:8080/"
        },
        "id": "aLg-IK-PP7lo",
        "outputId": "303d3e36-9694-4d32-bdac-0d101de740f6"
      },
      "execution_count": 26,
      "outputs": [
        {
          "output_type": "stream",
          "name": "stdout",
          "text": [
            "Epoch 1/10\n",
            "10/10 [==============================] - 74s 7s/step - loss: 0.5233 - binary_accuracy: 0.7372 - false_negatives: 341.0000 - val_loss: 0.5633 - val_binary_accuracy: 0.7213 - val_false_negatives: 266.0000\n",
            "Epoch 2/10\n",
            "10/10 [==============================] - 75s 8s/step - loss: 0.5038 - binary_accuracy: 0.7608 - false_negatives: 340.0000 - val_loss: 0.5075 - val_binary_accuracy: 0.7500 - val_false_negatives: 208.0000\n",
            "Epoch 3/10\n",
            "10/10 [==============================] - 74s 8s/step - loss: 0.5297 - binary_accuracy: 0.7316 - false_negatives: 336.0000 - val_loss: 0.5351 - val_binary_accuracy: 0.7307 - val_false_negatives: 311.0000\n",
            "Epoch 4/10\n",
            "10/10 [==============================] - 75s 8s/step - loss: 0.4764 - binary_accuracy: 0.7740 - false_negatives: 306.0000 - val_loss: 0.5234 - val_binary_accuracy: 0.7387 - val_false_negatives: 145.0000\n",
            "Epoch 5/10\n",
            "10/10 [==============================] - 73s 7s/step - loss: 0.4684 - binary_accuracy: 0.7768 - false_negatives: 294.0000 - val_loss: 0.5067 - val_binary_accuracy: 0.7693 - val_false_negatives: 157.0000\n",
            "Epoch 6/10\n",
            "10/10 [==============================] - 75s 8s/step - loss: 0.4665 - binary_accuracy: 0.7664 - false_negatives: 288.0000 - val_loss: 0.5267 - val_binary_accuracy: 0.7520 - val_false_negatives: 201.0000\n",
            "Epoch 7/10\n",
            "10/10 [==============================] - 75s 8s/step - loss: 0.4587 - binary_accuracy: 0.7860 - false_negatives: 314.0000 - val_loss: 0.5136 - val_binary_accuracy: 0.7480 - val_false_negatives: 192.0000\n",
            "Epoch 8/10\n",
            "10/10 [==============================] - 77s 8s/step - loss: 0.4659 - binary_accuracy: 0.7720 - false_negatives: 313.0000 - val_loss: 0.5204 - val_binary_accuracy: 0.7507 - val_false_negatives: 184.0000\n",
            "Epoch 9/10\n",
            "10/10 [==============================] - 76s 8s/step - loss: 0.4524 - binary_accuracy: 0.7832 - false_negatives: 296.0000 - val_loss: 0.4814 - val_binary_accuracy: 0.7753 - val_false_negatives: 149.0000\n",
            "Epoch 10/10\n",
            "10/10 [==============================] - 74s 8s/step - loss: 0.4499 - binary_accuracy: 0.7852 - false_negatives: 280.0000 - val_loss: 0.4942 - val_binary_accuracy: 0.7687 - val_false_negatives: 204.0000\n"
          ]
        }
      ]
    },
    {
      "cell_type": "code",
      "source": [
        "print(history.history)"
      ],
      "metadata": {
        "colab": {
          "base_uri": "https://localhost:8080/"
        },
        "id": "4M6pXyXGP7iK",
        "outputId": "2ec45e8c-0bfa-431e-9dab-6a4c436e4253"
      },
      "execution_count": 27,
      "outputs": [
        {
          "output_type": "stream",
          "name": "stdout",
          "text": [
            "{'loss': [0.5233362317085266, 0.5037611722946167, 0.5296919941902161, 0.4764249622821808, 0.4684455990791321, 0.4664722681045532, 0.4587344229221344, 0.46589183807373047, 0.4524202048778534, 0.4498676359653473], 'binary_accuracy': [0.7372000217437744, 0.7608000040054321, 0.7315999865531921, 0.7739999890327454, 0.7767999768257141, 0.7663999795913696, 0.7860000133514404, 0.7720000147819519, 0.7832000255584717, 0.7851999998092651], 'false_negatives': [341.0, 340.0, 336.0, 306.0, 294.0, 288.0, 314.0, 313.0, 296.0, 280.0], 'val_loss': [0.5633218884468079, 0.5075300335884094, 0.5351200699806213, 0.5234342217445374, 0.5067415237426758, 0.5266686081886292, 0.5136105418205261, 0.5204023718833923, 0.48140010237693787, 0.49419140815734863], 'val_binary_accuracy': [0.7213333249092102, 0.75, 0.7306666374206543, 0.7386666536331177, 0.7693333625793457, 0.7519999742507935, 0.7480000257492065, 0.7506666779518127, 0.7753333449363708, 0.768666684627533], 'val_false_negatives': [266.0, 208.0, 311.0, 145.0, 157.0, 201.0, 192.0, 184.0, 149.0, 204.0]}\n"
          ]
        }
      ]
    },
    {
      "cell_type": "code",
      "source": [
        "%matplotlib inline\n",
        "\n",
        "acc = history.history['binary_accuracy']\n",
        "val_acc=history.history['val_binary_accuracy']\n",
        "loss=history.history['loss']\n",
        "val_loss=history.history['val_loss']\n",
        "\n",
        "epochs=range(len(acc))\n",
        "\n",
        "plt.plot(epochs, acc, 'r', 'Training Accuracy')\n",
        "plt.plot(epochs, val_acc, 'b', 'Validation Accuracy')\n",
        "plt.title('Training and Validation Accuracy')\n",
        "plt.figure()\n",
        "\n",
        "\n",
        "plt.plot(epochs, loss, 'r', 'Training Loss')\n",
        "plt.plot(epochs, val_loss, 'b', 'Validation Loss')\n",
        "plt.title('Training and Validation Loss')\n",
        "plt.figure()"
      ],
      "metadata": {
        "colab": {
          "base_uri": "https://localhost:8080/",
          "height": 923
        },
        "id": "xl5C1c41P7dT",
        "outputId": "200a0d82-8f64-4e88-e5f6-240553423805"
      },
      "execution_count": 28,
      "outputs": [
        {
          "output_type": "execute_result",
          "data": {
            "text/plain": [
              "<Figure size 640x480 with 0 Axes>"
            ]
          },
          "metadata": {},
          "execution_count": 28
        },
        {
          "output_type": "display_data",
          "data": {
            "text/plain": [
              "<Figure size 640x480 with 1 Axes>"
            ],
            "image/png": "[encoded data removed]"
          },
          "metadata": {}
        },
        {
          "output_type": "display_data",
          "data": {
            "text/plain": [
              "<Figure size 640x480 with 1 Axes>"
            ],
            "image/png": "[encoded data removed]"
          },
          "metadata": {}
        },
        {
          "output_type": "display_data",
          "data": {
            "text/plain": [
              "<Figure size 640x480 with 0 Axes>"
            ]
          },
          "metadata": {}
        }
      ]
    }
  ]
}